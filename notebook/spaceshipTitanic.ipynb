
# 🛠 **Spaceship Titanic - Análise e Modelagem Completa**

## 1. Entendimento do Problema

O **Spaceship Titanic** é uma competição do Kaggle que simula um cenário fictício onde passageiros de uma nave espacial podem ter sido **transportados para outra dimensão** após um acidente.  
O objetivo é **prever se um passageiro foi transportado (`Transported = True/False`)** com base em informações como idade, gastos, cabine, destino, etc.

- **Tipo de problema:** Classificação binária.
- **Métrica oficial:** **Accuracy**  
  Fórmula:
  \[
  Accuracy = \frac{\text{Número de previsões corretas}}{\text{Total de previsões}}
  \]
  Ou seja, a proporção de acertos sobre o total de exemplos.

---

## 2. Análise Exploratória dos Dados (EDA)

```python
# =========================
# 📦 Importação de bibliotecas
# =========================
import pandas as pd
import numpy as np
import matplotlib.pyplot as plt
import seaborn as sns

from sklearn.model_selection import train_test_split, cross_val_score, KFold
from sklearn.metrics import accuracy_score
from sklearn.preprocessing import LabelEncoder, StandardScaler

# =========================
# 📂 Carregamento dos dados
# =========================
train = pd.read_csv("train.csv")
test = pd.read_csv("test.csv")

# Visualizar primeiras linhas
print(train.head())

# Estrutura do dataset
print(train.shape)
print(train.info())

# =========================
# 📉 Valores ausentes
# =========================
missing = train.isnull().sum().sort_values(ascending=False)
missing_percent = (missing / len(train)) * 100
missing_df = pd.DataFrame({"Missing": missing, "Percent": missing_percent})
print(missing_df)

# =========================
# 📊 Distribuição numérica
# =========================
num_cols = train.select_dtypes(include=np.number).columns
train[num_cols].hist(bins=30, figsize=(15, 8))
plt.show()

# =========================
# 📊 Distribuição categórica
# =========================
cat_cols = train.select_dtypes(exclude=np.number).columns
for col in cat_cols:
    plt.figure(figsize=(6,4))
    sns.countplot(data=train, x=col)
    plt.xticks(rotation=45)
    plt.title(f"Distribuição de {col}")
    plt.show()

# =========================
# 🔍 Correlação
# =========================
plt.figure(figsize=(10,6))
sns.heatmap(train[num_cols].corr(), annot=True, cmap="coolwarm")
plt.title("Correlação entre variáveis numéricas")
plt.show()

# =========================
# 🎯 Relação com target
# =========================
for col in num_cols:
    plt.figure(figsize=(6,4))
    sns.boxplot(data=train, x="Transported", y=col)
    plt.title(f"{col} vs Transported")
    plt.show()
```

**Decisões iniciais:**
- Variáveis como `Age`, `RoomService`, `FoodCourt`, `ShoppingMall`, `Spa`, `VRDeck` têm valores ausentes que podem ser imputados com **mediana** (menos sensível a outliers).
- Variáveis categóricas como `HomePlanet`, `CryoSleep`, `Cabin`, `Destination` podem ser imputadas com **moda**.

---

## 3. Pré-Processamento

```python
# Copiar dataset para manipulação
df = train.copy()

# Imputação de valores ausentes
for col in num_cols:
    df[col].fillna(df[col].median(), inplace=True)

for col in cat_cols:
    df[col].fillna(df[col].mode()[0], inplace=True)

# Codificação de variáveis categóricas
le = LabelEncoder()
for col in cat_cols:
    df[col] = le.fit_transform(df[col])

# Separar features e target
X = df.drop("Transported", axis=1)
y = df["Transported"].astype(int)

# Escalonamento
scaler = StandardScaler()
X_scaled = scaler.fit_transform(X)

# Split treino/teste
X_train, X_val, y_train, y_val = train_test_split(X_scaled, y, test_size=0.2, random_state=42)
```

---

## 4. Métrica de Avaliação

```python
# Implementação manual
def accuracy_manual(y_true, y_pred):
    return np.mean(y_true == y_pred)

# Exemplo
y_true = np.array([1, 0, 1, 1])
y_pred = np.array([1, 0, 0, 1])
print("Accuracy manual:", accuracy_manual(y_true, y_pred))
```

---

## 5. Modelo Baseline

```python
from sklearn.dummy import DummyClassifier

dummy = DummyClassifier(strategy="most_frequent")
cv = KFold(n_splits=5, shuffle=True, random_state=42)
baseline_acc = cross_val_score(dummy, X_scaled, y, cv=cv, scoring="accuracy")
print("Baseline Accuracy:", baseline_acc.mean())
```

---

## 6. Estudo de Soluções Semelhantes

**Ideias comuns encontradas em notebooks Kaggle:**
- Engenharia de atributos: extrair número da cabine, lado da nave.
- Imputação com KNN.
- Modelos ensemble (RandomForest, XGBoost, LightGBM).
- Feature selection com importância de variáveis.

---

## 7. Modelos Diferentes

```python
from sklearn.ensemble import RandomForestClassifier
from xgboost import XGBClassifier
from sklearn.neighbors import KNeighborsClassifier

models = {
    "RandomForest": RandomForestClassifier(random_state=42),
    "XGBoost": XGBClassifier(random_state=42, eval_metric="logloss"),
    "KNN": KNeighborsClassifier()
}

results = {}
for name, model in models.items():
    acc = cross_val_score(model, X_scaled, y, cv=cv, scoring="accuracy").mean()
    results[name] = acc

print(pd.DataFrame(results.items(), columns=["Modelo", "Accuracy"]))
```

---

## 8. Meta-Learning

```python
from sklearn.ensemble import VotingClassifier

voting = VotingClassifier(
    estimators=[
        ("rf", RandomForestClassifier(random_state=42)),
        ("xgb", XGBClassifier(random_state=42, eval_metric="logloss")),
        ("knn", KNeighborsClassifier())
    ],
    voting="soft"
)

ensemble_acc = cross_val_score(voting, X_scaled, y, cv=cv, scoring="accuracy").mean()
print("VotingClassifier Accuracy:", ensemble_acc)
```

---

## 9. Otimização de Hiperparâmetros com Optuna

```python
import optuna

def objective(trial):
    n_estimators = trial.suggest_int("n_estimators", 100, 500)
    max_depth = trial.suggest_int("max_depth", 3, 15)
    rf = RandomForestClassifier(
        n_estimators=n_estimators,
        max_depth=max_depth,
        random_state=42
    )
    return cross_val_score(rf, X_scaled, y, cv=cv, scoring="accuracy").mean()

study = optuna.create_study(direction="maximize")
study.optimize(objective, n_trials=20)

print("Melhores parâmetros:", study.best_params)
print("Melhor accuracy:", study.best_value)
```

---

## 10. Avaliação Final

```python
final_results = pd.DataFrame([
    ["Baseline", baseline_acc.mean(), "-", "Modelo mais simples"],
    ["RandomForest", results["RandomForest"], "-", ""],
    ["XGBoost", results["XGBoost"], "-", ""],
    ["KNN", results["KNN"], "-", ""],
    ["VotingClassifier", ensemble_acc, "-", "Ensemble de 3 modelos"],
    ["RandomForest Tunado", study.best_value, study.best_params, "Optuna tuning"]
], columns=["Modelo", "Accuracy (CV)", "Melhor Parâmetro", "Observações"])

print(final_results)
```

