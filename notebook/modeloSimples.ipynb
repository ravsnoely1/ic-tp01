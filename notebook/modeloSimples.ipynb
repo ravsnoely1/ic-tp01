{
  "nbformat": 4,
  "nbformat_minor": 0,
  "metadata": {
    "colab": {
      "provenance": []
    },
    "kernelspec": {
      "name": "python3",
      "display_name": "Python 3"
    },
    "language_info": {
      "name": "python"
    }
  },
  "cells": [
    {
      "cell_type": "code",
      "execution_count": null,
      "metadata": {
        "id": "r2L3pLhOScmZ"
      },
      "outputs": [],
      "source": [
        "# ============================================================\n",
        "# Spaceship Titanic - Análise Exploratória e Baseline com 10-Fold CV\n",
        "# ============================================================\n",
        "\n",
        "# 1. Importação das bibliotecas\n",
        "import pandas as pd\n",
        "import numpy as np\n",
        "import matplotlib.pyplot as plt\n",
        "import seaborn as sns\n",
        "\n",
        "from sklearn.model_selection import StratifiedKFold\n",
        "from sklearn.metrics import accuracy_score\n",
        "from sklearn.ensemble import RandomForestClassifier\n",
        "\n",
        "# Configurações de visualização\n",
        "sns.set(style=\"whitegrid\")\n",
        "plt.rcParams['figure.figsize'] = (10, 6)\n",
        "\n",
        "# ============================================================\n",
        "# 1. Carregamento dos dados\n",
        "# ============================================================\n",
        "train_df = pd.read_csv(\"/kaggle/input/spaceship-titanic/train.csv\")\n",
        "test_df = pd.read_csv(\"/kaggle/input/spaceship-titanic/test.csv\")\n",
        "\n",
        "print(\"Dimensões do treino:\", train_df.shape)\n",
        "print(\"Dimensões do teste:\", test_df.shape)\n",
        "\n",
        "train_df.head()\n"
      ]
    },
    {
      "cell_type": "code",
      "source": [
        "# Copiando datasets\n",
        "df_train = train_df.copy()\n",
        "df_test = test_df.copy()\n",
        "\n",
        "# Tratamento de valores faltantes\n",
        "for col in df_train.columns:\n",
        "    if df_train[col].dtype == \"object\":\n",
        "        df_train[col].fillna(df_train[col].mode()[0], inplace=True)\n",
        "        df_test[col].fillna(df_test[col].mode()[0], inplace=True)\n",
        "    else:\n",
        "        df_train[col].fillna(df_train[col].median(), inplace=True)\n",
        "        df_test[col].fillna(df_test[col].median(), inplace=True)\n",
        "\n",
        "# Separando features e alvo\n",
        "X = df_train.drop(columns=[\"Transported\", \"PassengerId\"])\n",
        "y = df_train[\"Transported\"].astype(int)\n",
        "\n",
        "# OneHotEncoding\n",
        "X = pd.get_dummies(X)\n",
        "df_test_encoded = pd.get_dummies(df_test.drop(columns=[\"PassengerId\"]))\n",
        "\n",
        "# Garantir que as colunas sejam iguais\n",
        "df_test_encoded = df_test_encoded.reindex(columns=X.columns, fill_value=0)\n",
        "\n",
        "# ============================================================\n",
        "# 10-Fold Cross Validation\n",
        "# ============================================================\n",
        "kf = StratifiedKFold(n_splits=10, shuffle=True, random_state=42)\n",
        "model = RandomForestClassifier(n_estimators=100, random_state=42)\n",
        "\n",
        "fold_accuracies = []\n",
        "\n",
        "for fold, (train_idx, val_idx) in enumerate(kf.split(X, y), 1):\n",
        "    X_train, X_val = X.iloc[train_idx], X.iloc[val_idx]\n",
        "    y_train, y_val = y.iloc[train_idx], y.iloc[val_idx]\n",
        "\n",
        "    model.fit(X_train, y_train)\n",
        "    y_val_pred = model.predict(X_val)\n",
        "    acc = accuracy_score(y_val, y_val_pred)\n",
        "    fold_accuracies.append(acc)\n",
        "    print(f\"Fold {fold} - Accuracy: {acc:.4f}\")\n",
        "\n",
        "print(\"\\nMédia de Accuracy nos 10 folds:\", np.mean(fold_accuracies))\n",
        "print(\"Desvio padrão:\", np.std(fold_accuracies))\n"
      ],
      "metadata": {
        "id": "DxlZhTx2SfCF"
      },
      "execution_count": null,
      "outputs": []
    },
    {
      "cell_type": "code",
      "source": [
        "# Histograma das accuracies\n",
        "plt.figure(figsize=(8, 5))\n",
        "sns.histplot(fold_accuracies, bins=5, kde=True, color=\"blue\")\n",
        "plt.title(\"Distribuição das accuracies por fold\")\n",
        "plt.xlabel(\"Accuracy\")\n",
        "plt.ylabel(\"Frequência\")\n",
        "plt.show()\n",
        "\n",
        "# Boxplot das accuracies\n",
        "plt.figure(figsize=(6, 4))\n",
        "sns.boxplot(x=fold_accuracies, color=\"orange\")\n",
        "plt.title(\"Variação da accuracy nos folds\")\n",
        "plt.xlabel(\"Accuracy\")\n",
        "plt.show()\n"
      ],
      "metadata": {
        "id": "PVi4ZT8pSjRc"
      },
      "execution_count": null,
      "outputs": []
    },
    {
      "cell_type": "code",
      "source": [
        "# Treinando modelo final com todos os dados\n",
        "model.fit(X, y)\n",
        "\n",
        "# Previsões para o conjunto de teste\n",
        "y_test_pred = model.predict(df_test_encoded)\n",
        "\n",
        "# Criando arquivo de submissão\n",
        "submission = pd.DataFrame({\n",
        "    \"PassengerId\": test_df[\"PassengerId\"],\n",
        "    \"Transported\": y_test_pred.astype(bool)\n",
        "})\n",
        "\n",
        "submission.to_csv(\"submission.csv\", index=False)\n",
        "print(\"Arquivo submission.csv criado!\")\n"
      ],
      "metadata": {
        "id": "mIubo25TSlB5"
      },
      "execution_count": null,
      "outputs": []
    }
  ]
}