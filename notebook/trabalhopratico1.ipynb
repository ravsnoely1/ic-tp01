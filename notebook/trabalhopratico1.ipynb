{
 "cells": [
  {
   "cell_type": "code",
   "execution_count": 1,
   "id": "638b04c4",
   "metadata": {
    "_cell_guid": "b1076dfc-b9ad-4769-8c92-a6c4dae69d19",
    "_uuid": "8f2839f25d086af736a60e9eeb907d3b93b6e0e5",
    "execution": {
     "iopub.execute_input": "2025-10-22T20:46:27.125215Z",
     "iopub.status.busy": "2025-10-22T20:46:27.124233Z",
     "iopub.status.idle": "2025-10-22T20:46:33.171986Z",
     "shell.execute_reply": "2025-10-22T20:46:33.170589Z"
    },
    "papermill": {
     "duration": 6.054549,
     "end_time": "2025-10-22T20:46:33.174065",
     "exception": false,
     "start_time": "2025-10-22T20:46:27.119516",
     "status": "completed"
    },
    "tags": []
   },
   "outputs": [],
   "source": [
    "import pandas as pd\n",
    "import numpy as np\n",
    "import matplotlib.pyplot as plt\n",
    "import seaborn as sns\n",
    "\n",
    "from sklearn.model_selection import train_test_split, cross_val_score, KFold\n",
    "from sklearn.metrics import accuracy_score\n",
    "from sklearn.preprocessing import LabelEncoder, StandardScaler\n",
    "from sklearn.dummy import DummyClassifier\n",
    "from sklearn.ensemble import RandomForestClassifier, VotingClassifier\n",
    "from xgboost import XGBClassifier\n",
    "from sklearn.neighbors import KNeighborsClassifier\n",
    "import optuna\n"
   ]
  },
  {
   "cell_type": "code",
   "execution_count": 2,
   "id": "165db25d",
   "metadata": {
    "execution": {
     "iopub.execute_input": "2025-10-22T20:46:33.181313Z",
     "iopub.status.busy": "2025-10-22T20:46:33.180827Z",
     "iopub.status.idle": "2025-10-22T20:46:33.284166Z",
     "shell.execute_reply": "2025-10-22T20:46:33.283090Z"
    },
    "papermill": {
     "duration": 0.108996,
     "end_time": "2025-10-22T20:46:33.286145",
     "exception": false,
     "start_time": "2025-10-22T20:46:33.177149",
     "status": "completed"
    },
    "tags": []
   },
   "outputs": [],
   "source": [
    "train=pd.read_csv(\"/kaggle/input/spaceship-titanic/train.csv\")\n",
    "test=pd.read_csv(\"/kaggle/input/spaceship-titanic/test.csv\")\n",
    "sample_sub = pd.read_csv('/kaggle/input/spaceship-titanic/sample_submission.csv')"
   ]
  },
  {
   "cell_type": "code",
   "execution_count": 3,
   "id": "b071d7f9",
   "metadata": {
    "execution": {
     "iopub.execute_input": "2025-10-22T20:46:33.292826Z",
     "iopub.status.busy": "2025-10-22T20:46:33.292424Z",
     "iopub.status.idle": "2025-10-22T20:46:33.402555Z",
     "shell.execute_reply": "2025-10-22T20:46:33.401492Z"
    },
    "papermill": {
     "duration": 0.115467,
     "end_time": "2025-10-22T20:46:33.404287",
     "exception": false,
     "start_time": "2025-10-22T20:46:33.288820",
     "status": "completed"
    },
    "tags": []
   },
   "outputs": [
    {
     "name": "stderr",
     "output_type": "stream",
     "text": [
      "/tmp/ipykernel_13/2885967826.py:19: FutureWarning: Downcasting object dtype arrays on .fillna, .ffill, .bfill is deprecated and will change in a future version. Call result.infer_objects(copy=False) instead. To opt-in to the future behavior, set `pd.set_option('future.no_silent_downcasting', True)`\n",
      "  df[col] = df[col].fillna(df[col].mode()[0]).infer_objects(copy=False)\n"
     ]
    }
   ],
   "source": [
    "# Identificar colunas numéricas e categóricas\n",
    "num_cols = train.select_dtypes(include=np.number).columns\n",
    "cat_cols = train.select_dtypes(exclude=np.number).columns\n",
    "\n",
    "# Remover colunas apenas se existirem\n",
    "if \"Transported\" in num_cols:\n",
    "    num_cols = num_cols.drop(\"Transported\")\n",
    "if \"PassengerId\" in cat_cols:\n",
    "    cat_cols = cat_cols.drop(\"PassengerId\")\n",
    "\n",
    "# Copiar dataset\n",
    "df = train.copy()\n",
    "\n",
    "# Imputação de valores ausentes\n",
    "for col in num_cols:\n",
    "    df[col] = df[col].fillna(df[col].median())\n",
    "\n",
    "for col in cat_cols:\n",
    "    df[col] = df[col].fillna(df[col].mode()[0]).infer_objects(copy=False)\n",
    "\n",
    "# Codificação de variáveis categóricas\n",
    "le = LabelEncoder()\n",
    "for col in cat_cols:\n",
    "    df[col] = le.fit_transform(df[col])\n",
    "\n",
    "# Separar features e target\n",
    "if \"Transported\" in df.columns:\n",
    "    X = df.drop([\"Transported\", \"PassengerId\"], axis=1, errors='ignore')\n",
    "    y = df[\"Transported\"].astype(int)\n",
    "else:\n",
    "    X = df.drop([\"PassengerId\"], axis=1, errors='ignore')\n",
    "    y = None  # Não existe target no dataset de teste\n",
    "\n",
    "# Escalonamento\n",
    "scaler = StandardScaler()\n",
    "X_scaled = scaler.fit_transform(X)\n",
    "\n",
    "# Split treino/teste (somente se y existir)\n",
    "if y is not None:\n",
    "    X_train, X_val, y_train, y_val = train_test_split(\n",
    "        X_scaled, y, test_size=0.2, random_state=42\n",
    "    )\n"
   ]
  },
  {
   "cell_type": "code",
   "execution_count": 4,
   "id": "0ae2cdf6",
   "metadata": {
    "execution": {
     "iopub.execute_input": "2025-10-22T20:46:33.410887Z",
     "iopub.status.busy": "2025-10-22T20:46:33.410526Z",
     "iopub.status.idle": "2025-10-22T20:46:33.432020Z",
     "shell.execute_reply": "2025-10-22T20:46:33.430956Z"
    },
    "papermill": {
     "duration": 0.026975,
     "end_time": "2025-10-22T20:46:33.433934",
     "exception": false,
     "start_time": "2025-10-22T20:46:33.406959",
     "status": "completed"
    },
    "tags": []
   },
   "outputs": [
    {
     "name": "stdout",
     "output_type": "stream",
     "text": [
      "Baseline Accuracy: 0.5036236981294887\n"
     ]
    }
   ],
   "source": [
    "dummy = DummyClassifier(strategy=\"most_frequent\")\n",
    "cv = KFold(n_splits=5, shuffle=True, random_state=42)\n",
    "baseline_acc = cross_val_score(dummy, X_scaled, y, cv=cv, scoring=\"accuracy\").mean()\n",
    "print(\"Baseline Accuracy:\", baseline_acc)\n"
   ]
  },
  {
   "cell_type": "code",
   "execution_count": 5,
   "id": "afb42c9b",
   "metadata": {
    "execution": {
     "iopub.execute_input": "2025-10-22T20:46:33.440298Z",
     "iopub.status.busy": "2025-10-22T20:46:33.439972Z",
     "iopub.status.idle": "2025-10-22T20:46:41.674992Z",
     "shell.execute_reply": "2025-10-22T20:46:41.673703Z"
    },
    "papermill": {
     "duration": 8.240119,
     "end_time": "2025-10-22T20:46:41.676644",
     "exception": false,
     "start_time": "2025-10-22T20:46:33.436525",
     "status": "completed"
    },
    "tags": []
   },
   "outputs": [
    {
     "name": "stdout",
     "output_type": "stream",
     "text": [
      "         Modelo  Accuracy\n",
      "0  RandomForest  0.787991\n",
      "1       XGBoost  0.789715\n",
      "2           KNN  0.762913\n"
     ]
    }
   ],
   "source": [
    "models = {\n",
    "    \"RandomForest\": RandomForestClassifier(random_state=42),\n",
    "    \"XGBoost\": XGBClassifier(random_state=42, eval_metric=\"logloss\"),\n",
    "    \"KNN\": KNeighborsClassifier()\n",
    "}\n",
    "\n",
    "results = {}\n",
    "for name, model in models.items():\n",
    "    acc = cross_val_score(model, X_scaled, y, cv=cv, scoring=\"accuracy\").mean()\n",
    "    results[name] = acc\n",
    "\n",
    "print(pd.DataFrame(results.items(), columns=[\"Modelo\", \"Accuracy\"]))\n"
   ]
  },
  {
   "cell_type": "code",
   "execution_count": 6,
   "id": "b4842212",
   "metadata": {
    "execution": {
     "iopub.execute_input": "2025-10-22T20:46:41.683849Z",
     "iopub.status.busy": "2025-10-22T20:46:41.683462Z",
     "iopub.status.idle": "2025-10-22T20:46:49.390922Z",
     "shell.execute_reply": "2025-10-22T20:46:49.389306Z"
    },
    "papermill": {
     "duration": 7.713393,
     "end_time": "2025-10-22T20:46:49.393000",
     "exception": false,
     "start_time": "2025-10-22T20:46:41.679607",
     "status": "completed"
    },
    "tags": []
   },
   "outputs": [
    {
     "name": "stdout",
     "output_type": "stream",
     "text": [
      "VotingClassifier Accuracy: 0.7907502757758615\n"
     ]
    }
   ],
   "source": [
    "voting = VotingClassifier(\n",
    "    estimators=[\n",
    "        (\"rf\", RandomForestClassifier(random_state=42)),\n",
    "        (\"xgb\", XGBClassifier(random_state=42, eval_metric=\"logloss\")),\n",
    "        (\"knn\", KNeighborsClassifier())\n",
    "    ],\n",
    "    voting=\"soft\"\n",
    ")\n",
    "\n",
    "ensemble_acc = cross_val_score(voting, X_scaled, y, cv=cv, scoring=\"accuracy\").mean()\n",
    "print(\"VotingClassifier Accuracy:\", ensemble_acc)\n"
   ]
  },
  {
   "cell_type": "code",
   "execution_count": 7,
   "id": "5cc13c1e",
   "metadata": {
    "execution": {
     "iopub.execute_input": "2025-10-22T20:46:49.400389Z",
     "iopub.status.busy": "2025-10-22T20:46:49.399879Z",
     "iopub.status.idle": "2025-10-22T20:51:26.504874Z",
     "shell.execute_reply": "2025-10-22T20:51:26.502827Z"
    },
    "papermill": {
     "duration": 277.111331,
     "end_time": "2025-10-22T20:51:26.507282",
     "exception": false,
     "start_time": "2025-10-22T20:46:49.395951",
     "status": "completed"
    },
    "tags": []
   },
   "outputs": [
    {
     "name": "stderr",
     "output_type": "stream",
     "text": [
      "[I 2025-10-22 20:46:49,403] A new study created in memory with name: no-name-71c34c81-0e93-4941-ae34-2b4bf0c8c4fe\n",
      "[I 2025-10-22 20:47:07,358] Trial 0 finished with value: 0.7955832849719194 and parameters: {'n_estimators': 342, 'max_depth': 13}. Best is trial 0 with value: 0.7955832849719194.\n",
      "[I 2025-10-22 20:47:24,140] Trial 1 finished with value: 0.7944328678505894 and parameters: {'n_estimators': 416, 'max_depth': 8}. Best is trial 0 with value: 0.7955832849719194.\n",
      "[I 2025-10-22 20:47:32,288] Trial 2 finished with value: 0.7913273040932616 and parameters: {'n_estimators': 221, 'max_depth': 7}. Best is trial 0 with value: 0.7955832849719194.\n",
      "[I 2025-10-22 20:47:47,402] Trial 3 finished with value: 0.798689113421136 and parameters: {'n_estimators': 324, 'max_depth': 10}. Best is trial 3 with value: 0.798689113421136.\n",
      "[I 2025-10-22 20:48:03,103] Trial 4 finished with value: 0.796043253301535 and parameters: {'n_estimators': 396, 'max_depth': 8}. Best is trial 3 with value: 0.798689113421136.\n",
      "[I 2025-10-22 20:48:09,969] Trial 5 finished with value: 0.7993797607317672 and parameters: {'n_estimators': 143, 'max_depth': 11}. Best is trial 5 with value: 0.7993797607317672.\n",
      "[I 2025-10-22 20:48:19,544] Trial 6 finished with value: 0.7989193291913465 and parameters: {'n_estimators': 206, 'max_depth': 10}. Best is trial 5 with value: 0.7993797607317672.\n",
      "[I 2025-10-22 20:48:46,565] Trial 7 finished with value: 0.7975391595106112 and parameters: {'n_estimators': 493, 'max_depth': 15}. Best is trial 5 with value: 0.7993797607317672.\n",
      "[I 2025-10-22 20:49:06,005] Trial 8 finished with value: 0.7998393320235497 and parameters: {'n_estimators': 429, 'max_depth': 10}. Best is trial 8 with value: 0.7998393320235497.\n",
      "[I 2025-10-22 20:49:16,234] Trial 9 finished with value: 0.7655594163808546 and parameters: {'n_estimators': 385, 'max_depth': 4}. Best is trial 8 with value: 0.7998393320235497.\n",
      "[I 2025-10-22 20:49:30,010] Trial 10 finished with value: 0.7661349227198945 and parameters: {'n_estimators': 471, 'max_depth': 4}. Best is trial 8 with value: 0.7998393320235497.\n",
      "[I 2025-10-22 20:49:38,745] Trial 11 finished with value: 0.7977688458970441 and parameters: {'n_estimators': 171, 'max_depth': 12}. Best is trial 8 with value: 0.7998393320235497.\n",
      "[I 2025-10-22 20:49:44,375] Trial 12 finished with value: 0.7979990616672545 and parameters: {'n_estimators': 102, 'max_depth': 12}. Best is trial 8 with value: 0.7998393320235497.\n",
      "[I 2025-10-22 20:49:53,918] Trial 13 finished with value: 0.7878768468049373 and parameters: {'n_estimators': 271, 'max_depth': 6}. Best is trial 8 with value: 0.7998393320235497.\n",
      "[I 2025-10-22 20:49:58,760] Trial 14 finished with value: 0.7975393580295276 and parameters: {'n_estimators': 101, 'max_depth': 10}. Best is trial 8 with value: 0.7998393320235497.\n",
      "[I 2025-10-22 20:50:14,788] Trial 15 finished with value: 0.7970785956242461 and parameters: {'n_estimators': 269, 'max_depth': 14}. Best is trial 8 with value: 0.7998393320235497.\n",
      "[I 2025-10-22 20:50:38,103] Trial 16 finished with value: 0.7989194615372908 and parameters: {'n_estimators': 426, 'max_depth': 11}. Best is trial 8 with value: 0.7998393320235497.\n",
      "[I 2025-10-22 20:50:44,667] Trial 17 finished with value: 0.7886817748385214 and parameters: {'n_estimators': 165, 'max_depth': 6}. Best is trial 8 with value: 0.7998393320235497.\n",
      "[I 2025-10-22 20:51:02,427] Trial 18 finished with value: 0.7982286818807152 and parameters: {'n_estimators': 360, 'max_depth': 9}. Best is trial 8 with value: 0.7998393320235497.\n",
      "[I 2025-10-22 20:51:26,496] Trial 19 finished with value: 0.7981143349847901 and parameters: {'n_estimators': 446, 'max_depth': 12}. Best is trial 8 with value: 0.7998393320235497.\n"
     ]
    },
    {
     "name": "stdout",
     "output_type": "stream",
     "text": [
      "Melhores parâmetros: {'n_estimators': 429, 'max_depth': 10}\n",
      "Melhor accuracy: 0.7998393320235497\n"
     ]
    }
   ],
   "source": [
    "def objective(trial):\n",
    "    n_estimators = trial.suggest_int(\"n_estimators\", 100, 500)\n",
    "    max_depth = trial.suggest_int(\"max_depth\", 3, 15)\n",
    "    rf = RandomForestClassifier(\n",
    "        n_estimators=n_estimators,\n",
    "        max_depth=max_depth,\n",
    "        random_state=42\n",
    "    )\n",
    "    return cross_val_score(rf, X_scaled, y, cv=cv, scoring=\"accuracy\").mean()\n",
    "\n",
    "study = optuna.create_study(direction=\"maximize\")\n",
    "study.optimize(objective, n_trials=20)\n",
    "\n",
    "print(\"Melhores parâmetros:\", study.best_params)\n",
    "print(\"Melhor accuracy:\", study.best_value)\n"
   ]
  },
  {
   "cell_type": "code",
   "execution_count": 8,
   "id": "b3ba1f0d",
   "metadata": {
    "execution": {
     "iopub.execute_input": "2025-10-22T20:51:26.521002Z",
     "iopub.status.busy": "2025-10-22T20:51:26.520143Z",
     "iopub.status.idle": "2025-10-22T20:51:32.707581Z",
     "shell.execute_reply": "2025-10-22T20:51:32.706107Z"
    },
    "papermill": {
     "duration": 6.196618,
     "end_time": "2025-10-22T20:51:32.709636",
     "exception": false,
     "start_time": "2025-10-22T20:51:26.513018",
     "status": "completed"
    },
    "tags": []
   },
   "outputs": [
    {
     "name": "stdout",
     "output_type": "stream",
     "text": [
      "✅ Arquivo submission.csv gerado com sucesso!\n"
     ]
    },
    {
     "data": {
      "text/html": [
       "<div>\n",
       "<style scoped>\n",
       "    .dataframe tbody tr th:only-of-type {\n",
       "        vertical-align: middle;\n",
       "    }\n",
       "\n",
       "    .dataframe tbody tr th {\n",
       "        vertical-align: top;\n",
       "    }\n",
       "\n",
       "    .dataframe thead th {\n",
       "        text-align: right;\n",
       "    }\n",
       "</style>\n",
       "<table border=\"1\" class=\"dataframe\">\n",
       "  <thead>\n",
       "    <tr style=\"text-align: right;\">\n",
       "      <th></th>\n",
       "      <th>PassengerId</th>\n",
       "      <th>Transported</th>\n",
       "    </tr>\n",
       "  </thead>\n",
       "  <tbody>\n",
       "    <tr>\n",
       "      <th>0</th>\n",
       "      <td>0013_01</td>\n",
       "      <td>True</td>\n",
       "    </tr>\n",
       "    <tr>\n",
       "      <th>1</th>\n",
       "      <td>0018_01</td>\n",
       "      <td>False</td>\n",
       "    </tr>\n",
       "    <tr>\n",
       "      <th>2</th>\n",
       "      <td>0019_01</td>\n",
       "      <td>True</td>\n",
       "    </tr>\n",
       "    <tr>\n",
       "      <th>3</th>\n",
       "      <td>0021_01</td>\n",
       "      <td>True</td>\n",
       "    </tr>\n",
       "    <tr>\n",
       "      <th>4</th>\n",
       "      <td>0023_01</td>\n",
       "      <td>True</td>\n",
       "    </tr>\n",
       "  </tbody>\n",
       "</table>\n",
       "</div>"
      ],
      "text/plain": [
       "  PassengerId  Transported\n",
       "0     0013_01         True\n",
       "1     0018_01        False\n",
       "2     0019_01         True\n",
       "3     0021_01         True\n",
       "4     0023_01         True"
      ]
     },
     "metadata": {},
     "output_type": "display_data"
    }
   ],
   "source": [
    "# Copiar dataset de teste\n",
    "test_df = test.copy()\n",
    "\n",
    "# Remover 'Transported' de cat_cols, caso tenha vindo do treino\n",
    "cat_cols = [c for c in cat_cols if c in test_df.columns]\n",
    "num_cols = [c for c in num_cols if c in test_df.columns]\n",
    "\n",
    "# Imputação de valores ausentes (mesma estratégia do treino)\n",
    "for col in num_cols:\n",
    "    test_df[col] = test_df[col].fillna(df[col].median())\n",
    "\n",
    "for col in cat_cols:\n",
    "    test_df[col] = test_df[col].fillna(df[col].mode()[0]).infer_objects(copy=False)\n",
    "\n",
    "# Codificação (usando o mesmo LabelEncoder do treino)\n",
    "# ⚠️ Mas cuidado: você deve usar o MESMO ENCODER do treino, não refitá-lo!\n",
    "# Para simplificar, vamos reusar manualmente o mesmo mapeamento.\n",
    "for col in cat_cols:\n",
    "    # Cria um novo LabelEncoder e aplica o mesmo mapeamento\n",
    "    le = LabelEncoder()\n",
    "    le.fit(df[col].unique())  # aprende a partir do treino\n",
    "    # Valores desconhecidos no teste serão mapeados para -1\n",
    "    test_df[col] = test_df[col].map(lambda x: le.transform([x])[0] if x in le.classes_ else -1)\n",
    "\n",
    "# Escalonamento (mesmo StandardScaler do treino)\n",
    "test_scaled = scaler.transform(test_df.drop(\"PassengerId\", axis=1))\n",
    "\n",
    "# Treinar modelo final com os melhores parâmetros do Optuna\n",
    "best_rf = RandomForestClassifier(\n",
    "    n_estimators=study.best_params[\"n_estimators\"],\n",
    "    max_depth=study.best_params[\"max_depth\"],\n",
    "    random_state=42\n",
    ")\n",
    "\n",
    "best_rf.fit(X_scaled, y)\n",
    "\n",
    "# Fazer previsões\n",
    "predictions = best_rf.predict(test_scaled)\n",
    "predictions_bool = predictions.astype(bool)\n",
    "\n",
    "# Criar submission.csv\n",
    "submission = pd.DataFrame({\n",
    "    \"PassengerId\": test[\"PassengerId\"],\n",
    "    \"Transported\": predictions_bool\n",
    "})\n",
    "\n",
    "submission.to_csv(\"submission.csv\", index=False)\n",
    "print(\"✅ Arquivo submission.csv gerado com sucesso!\")\n",
    "display(submission.head())\n"
   ]
  }
 ],
 "metadata": {
  "kaggle": {
   "accelerator": "none",
   "dataSources": [
    {
     "databundleVersionId": 3220602,
     "sourceId": 34377,
     "sourceType": "competition"
    }
   ],
   "dockerImageVersionId": 31153,
   "isGpuEnabled": false,
   "isInternetEnabled": true,
   "language": "python",
   "sourceType": "notebook"
  },
  "kernelspec": {
   "display_name": "Python 3",
   "language": "python",
   "name": "python3"
  },
  "language_info": {
   "codemirror_mode": {
    "name": "ipython",
    "version": 3
   },
   "file_extension": ".py",
   "mimetype": "text/x-python",
   "name": "python",
   "nbconvert_exporter": "python",
   "pygments_lexer": "ipython3",
   "version": "3.11.13"
  },
  "papermill": {
   "default_parameters": {},
   "duration": 312.298231,
   "end_time": "2025-10-22T20:51:33.638023",
   "environment_variables": {},
   "exception": null,
   "input_path": "__notebook__.ipynb",
   "output_path": "__notebook__.ipynb",
   "parameters": {},
   "start_time": "2025-10-22T20:46:21.339792",
   "version": "2.6.0"
  }
 },
 "nbformat": 4,
 "nbformat_minor": 5
}
